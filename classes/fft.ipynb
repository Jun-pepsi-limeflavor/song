{
  "metadata": {
    "kernelspec": {
      "name": "python",
      "display_name": "Python (Pyodide)",
      "language": "python"
    },
    "language_info": {
      "codemirror_mode": {
        "name": "python",
        "version": 3
      },
      "file_extension": ".py",
      "mimetype": "text/x-python",
      "name": "python",
      "nbconvert_exporter": "python",
      "pygments_lexer": "ipython3",
      "version": "3.8"
    }
  },
  "nbformat_minor": 5,
  "nbformat": 4,
  "cells": [
    {
      "id": "2ac41526-8019-405a-9937-e45078e9d7c1",
      "cell_type": "code",
      "source": "import numpy as np\nimport matplotlib.pyplot as plt\n\nclass sinWaveForm:\n    def __init__(self, **kwargs) :\n        self.endTime = kwargs.get('endTime', 1)\n        self.sampleTime = kwargs.get('sampleTime', 0.01)\n        self.amp = kwargs.get('amp', 1)\n        self.freq = kwargs.get('freq', 1)\n        self.startTime = kwargs.get('startTime', 0)\n        self.bias = kwargs.get('bias', 0)\n\n    def calcDomain(self) :\n        return np.arange(0.0, self.endTime, self.sampleTime)\n\n    def calcSinValue(self, time) :\n        return self.amp * np.sin(2*np.pi*self.freq*time + self.startTime) + self.bias\n\n    def plotWave(self) :\n        time = self.calcDomain()\n        result = self.calcSinValue(time)\n    \n        plt.plot(time, result)\n        plt.grid(True)\n        plt.xlabel('time')\n        plt.ylabel('sin')\n        plt.show()",
      "metadata": {
        "trusted": true
      },
      "outputs": [],
      "execution_count": 4
    },
    {
      "id": "8ffe3d91-3312-4961-9029-ce4f1728e93c",
      "cell_type": "code",
      "source": "import numpy as np\nimport matplotlib.pyplot as plt\n\ntest1 = sinWaveForm(amp = 1, freq=1, endTime = 5)\ntest2 = sinWaveForm(amp = 2, freq=5, endTime = 5)\ntest3 = sinWaveForm(amp = 4, freq=10, endTime = 5)\n\nt = test1.calcDomain()\nresultTest1 = test1.calcSinValue(t)\nresultTest2 = test2.calcSinValue(t)\nresultTest3 = test3.calcSinValue(t)\n\nTs = test1.sampleTime \t\t\t\t\t# sampling interval\nFs = 1/Ts \t\t\t\t\t\t# sampling rate\nt = test1.calcDomain()",
      "metadata": {
        "trusted": true,
        "scrolled": true
      },
      "outputs": [],
      "execution_count": 6
    },
    {
      "id": "b6c5aa12-578f-4dd2-b1c1-c72caeb18812",
      "cell_type": "code",
      "source": "y = resultTest1 + resultTest2 + resultTest3\n\nn = len(y) \t\t\t\t\t# length of the signal\nk = np.arange(n)\nT = n/Fs\nfreq = k/T \t\t\t\t\t# two sides frequency range\nfreq = freq[range(int(n/2))] \t\t\t# one side frequency range\n\nY = np.fft.fft(y)/n \t\t\t\t# fft computing and normalization\nY = Y[range(int(n/2))]",
      "metadata": {
        "trusted": true
      },
      "outputs": [],
      "execution_count": 13
    },
    {
      "id": "8e99cfac-6c76-46c3-8db4-16c9281e60f3",
      "cell_type": "code",
      "source": "freq11 = np.fft.fftfreq(len(y), d=1/Fs)\nfreq11",
      "metadata": {
        "trusted": true
      },
      "outputs": [
        {
          "execution_count": 17,
          "output_type": "execute_result",
          "data": {
            "text/plain": "array([  0. ,   0.2,   0.4,   0.6,   0.8,   1. ,   1.2,   1.4,   1.6,\n         1.8,   2. ,   2.2,   2.4,   2.6,   2.8,   3. ,   3.2,   3.4,\n         3.6,   3.8,   4. ,   4.2,   4.4,   4.6,   4.8,   5. ,   5.2,\n         5.4,   5.6,   5.8,   6. ,   6.2,   6.4,   6.6,   6.8,   7. ,\n         7.2,   7.4,   7.6,   7.8,   8. ,   8.2,   8.4,   8.6,   8.8,\n         9. ,   9.2,   9.4,   9.6,   9.8,  10. ,  10.2,  10.4,  10.6,\n        10.8,  11. ,  11.2,  11.4,  11.6,  11.8,  12. ,  12.2,  12.4,\n        12.6,  12.8,  13. ,  13.2,  13.4,  13.6,  13.8,  14. ,  14.2,\n        14.4,  14.6,  14.8,  15. ,  15.2,  15.4,  15.6,  15.8,  16. ,\n        16.2,  16.4,  16.6,  16.8,  17. ,  17.2,  17.4,  17.6,  17.8,\n        18. ,  18.2,  18.4,  18.6,  18.8,  19. ,  19.2,  19.4,  19.6,\n        19.8,  20. ,  20.2,  20.4,  20.6,  20.8,  21. ,  21.2,  21.4,\n        21.6,  21.8,  22. ,  22.2,  22.4,  22.6,  22.8,  23. ,  23.2,\n        23.4,  23.6,  23.8,  24. ,  24.2,  24.4,  24.6,  24.8,  25. ,\n        25.2,  25.4,  25.6,  25.8,  26. ,  26.2,  26.4,  26.6,  26.8,\n        27. ,  27.2,  27.4,  27.6,  27.8,  28. ,  28.2,  28.4,  28.6,\n        28.8,  29. ,  29.2,  29.4,  29.6,  29.8,  30. ,  30.2,  30.4,\n        30.6,  30.8,  31. ,  31.2,  31.4,  31.6,  31.8,  32. ,  32.2,\n        32.4,  32.6,  32.8,  33. ,  33.2,  33.4,  33.6,  33.8,  34. ,\n        34.2,  34.4,  34.6,  34.8,  35. ,  35.2,  35.4,  35.6,  35.8,\n        36. ,  36.2,  36.4,  36.6,  36.8,  37. ,  37.2,  37.4,  37.6,\n        37.8,  38. ,  38.2,  38.4,  38.6,  38.8,  39. ,  39.2,  39.4,\n        39.6,  39.8,  40. ,  40.2,  40.4,  40.6,  40.8,  41. ,  41.2,\n        41.4,  41.6,  41.8,  42. ,  42.2,  42.4,  42.6,  42.8,  43. ,\n        43.2,  43.4,  43.6,  43.8,  44. ,  44.2,  44.4,  44.6,  44.8,\n        45. ,  45.2,  45.4,  45.6,  45.8,  46. ,  46.2,  46.4,  46.6,\n        46.8,  47. ,  47.2,  47.4,  47.6,  47.8,  48. ,  48.2,  48.4,\n        48.6,  48.8,  49. ,  49.2,  49.4,  49.6,  49.8, -50. , -49.8,\n       -49.6, -49.4, -49.2, -49. , -48.8, -48.6, -48.4, -48.2, -48. ,\n       -47.8, -47.6, -47.4, -47.2, -47. , -46.8, -46.6, -46.4, -46.2,\n       -46. , -45.8, -45.6, -45.4, -45.2, -45. , -44.8, -44.6, -44.4,\n       -44.2, -44. , -43.8, -43.6, -43.4, -43.2, -43. , -42.8, -42.6,\n       -42.4, -42.2, -42. , -41.8, -41.6, -41.4, -41.2, -41. , -40.8,\n       -40.6, -40.4, -40.2, -40. , -39.8, -39.6, -39.4, -39.2, -39. ,\n       -38.8, -38.6, -38.4, -38.2, -38. , -37.8, -37.6, -37.4, -37.2,\n       -37. , -36.8, -36.6, -36.4, -36.2, -36. , -35.8, -35.6, -35.4,\n       -35.2, -35. , -34.8, -34.6, -34.4, -34.2, -34. , -33.8, -33.6,\n       -33.4, -33.2, -33. , -32.8, -32.6, -32.4, -32.2, -32. , -31.8,\n       -31.6, -31.4, -31.2, -31. , -30.8, -30.6, -30.4, -30.2, -30. ,\n       -29.8, -29.6, -29.4, -29.2, -29. , -28.8, -28.6, -28.4, -28.2,\n       -28. , -27.8, -27.6, -27.4, -27.2, -27. , -26.8, -26.6, -26.4,\n       -26.2, -26. , -25.8, -25.6, -25.4, -25.2, -25. , -24.8, -24.6,\n       -24.4, -24.2, -24. , -23.8, -23.6, -23.4, -23.2, -23. , -22.8,\n       -22.6, -22.4, -22.2, -22. , -21.8, -21.6, -21.4, -21.2, -21. ,\n       -20.8, -20.6, -20.4, -20.2, -20. , -19.8, -19.6, -19.4, -19.2,\n       -19. , -18.8, -18.6, -18.4, -18.2, -18. , -17.8, -17.6, -17.4,\n       -17.2, -17. , -16.8, -16.6, -16.4, -16.2, -16. , -15.8, -15.6,\n       -15.4, -15.2, -15. , -14.8, -14.6, -14.4, -14.2, -14. , -13.8,\n       -13.6, -13.4, -13.2, -13. , -12.8, -12.6, -12.4, -12.2, -12. ,\n       -11.8, -11.6, -11.4, -11.2, -11. , -10.8, -10.6, -10.4, -10.2,\n       -10. ,  -9.8,  -9.6,  -9.4,  -9.2,  -9. ,  -8.8,  -8.6,  -8.4,\n        -8.2,  -8. ,  -7.8,  -7.6,  -7.4,  -7.2,  -7. ,  -6.8,  -6.6,\n        -6.4,  -6.2,  -6. ,  -5.8,  -5.6,  -5.4,  -5.2,  -5. ,  -4.8,\n        -4.6,  -4.4,  -4.2,  -4. ,  -3.8,  -3.6,  -3.4,  -3.2,  -3. ,\n        -2.8,  -2.6,  -2.4,  -2.2,  -2. ,  -1.8,  -1.6,  -1.4,  -1.2,\n        -1. ,  -0.8,  -0.6,  -0.4,  -0.2])"
          },
          "metadata": {}
        }
      ],
      "execution_count": 17
    },
    {
      "id": "7de7ef43-5186-4876-971c-9133b69e3615",
      "cell_type": "code",
      "source": "import numpy as np\nimport matplotlib.pyplot as plt\n\n# 예시로 사용할 샘플 데이터 (가속도 x, y, z 축에 대한 값)\n# 실제로는 'raw_data'를 불러와 사용해야 합니다.\nsampling_rate = 100  # 샘플링 주파수 (Hz)\ntime = np.linspace(0, 1, sampling_rate)  # 1초 동안의 시간 배열\nx = np.sin(2 * np.pi * 10 * time)  # 10Hz 사인파 (x축)\ny = np.sin(2 * np.pi * 20 * time)  # 20Hz 사인파 (y축)\nz = np.sin(2 * np.pi * 30 * time)  # 30Hz 사인파 (z축)\n\n# 푸리에 변환을 통한 주파수 변환\ndef fourier_transform(signal, sampling_rate):\n    # 빠른 푸리에 변환 (FFT)\n    fft_result = np.fft.fft(signal)\n    # 주파수 배열 생성\n    freq = np.fft.fftfreq(len(signal), d=1/sampling_rate)\n    return freq, fft_result\n\n# x, y, z 축에 대해 푸리에 변환 수행\nfreq_x, fft_x = fourier_transform(x, sampling_rate)\nfreq_y, fft_y = fourier_transform(y, sampling_rate)\nfreq_z, fft_z = fourier_transform(z, sampling_rate)\n\n# 푸리에 변환의 절댓값을 취하여 주파수 성분의 크기 확인\nmagnitude_x = np.abs(fft_x)\nmagnitude_y = np.abs(fft_y)\nmagnitude_z = np.abs(fft_z)\n\n# 주파수와 그에 해당하는 진폭을 시각화\nplt.figure(figsize=(12, 6))\n\nplt.subplot(3, 1, 1)\nplt.plot(freq_x, magnitude_x)\nplt.title(\"FFT of X-axis Acceleration\")\nplt.xlabel(\"Frequency (Hz)\")\nplt.ylabel(\"Magnitude\")\n\nplt.subplot(3, 1, 2)\nplt.plot(freq_y, magnitude_y)\nplt.title(\"FFT of Y-axis Acceleration\")\nplt.xlabel(\"Frequency (Hz)\")\nplt.ylabel(\"Magnitude\")\n\nplt.subplot(3, 1, 3)\nplt.plot(freq_z, magnitude_z)\nplt.title(\"FFT of Z-axis Acceleration\")\nplt.xlabel(\"Frequency (Hz)\")\nplt.ylabel(\"Magnitude\")\n\nplt.tight_layout()\nplt.show()\n",
      "metadata": {
        "trusted": true
      },
      "outputs": [],
      "execution_count": null
    },
    {
      "id": "94671632-f2ae-47cc-a40a-6ffdbf32fe61",
      "cell_type": "code",
      "source": "# 예시로 특정 주파수 범위 (예: 0-50Hz)만 추출해서 특성 벡터로 만들기\nlow_freq_limit = 50  # Hz\n\n# x, y, z축에 대해 푸리에 변환된 진폭 값에서 특정 주파수 범위에 해당하는 값만 추출\nvalid_freqs_x = (freq_x >= 0) & (freq_x <= low_freq_limit)\nvalid_freqs_y = (freq_y >= 0) & (freq_y <= low_freq_limit)\nvalid_freqs_z = (freq_z >= 0) & (freq_z <= low_freq_limit)\n\n# 해당 주파수 범위에 해당하는 진폭 값만 추출\nmagnitude_x_filtered = magnitude_x[valid_freqs_x]\nmagnitude_y_filtered = magnitude_y[valid_freqs_y]\nmagnitude_z_filtered = magnitude_z[valid_freqs_z]\n\n# 이 값들을 하나의 특성 벡터로 결합\nfeatures = np.concatenate([magnitude_x_filtered, magnitude_y_filtered, magnitude_z_filtered])\n\n# features는 이제 모델에 입력될 특성 벡터입니다.\n",
      "metadata": {
        "trusted": true
      },
      "outputs": [],
      "execution_count": null
    },
    {
      "id": "39c3169b-e663-47d5-94ae-7f86efd452b8",
      "cell_type": "code",
      "source": "# 각 주파수 성분의 최댓값을 특성으로 사용\nmax_freq_x = np.max(magnitude_x_filtered)\nmax_freq_y = np.max(magnitude_y_filtered)\nmax_freq_z = np.max(magnitude_z_filtered)\n\n# 평균값을 사용할 수도 있음\navg_freq_x = np.mean(magnitude_x_filtered)\navg_freq_y = np.mean(magnitude_y_filtered)\navg_freq_z = np.mean(magnitude_z_filtered)\n\n# 이 값들을 특성 벡터로 결합\nfeatures = np.array([max_freq_x, max_freq_y, max_freq_z, avg_freq_x, avg_freq_y, avg_freq_z])\n",
      "metadata": {
        "trusted": true
      },
      "outputs": [],
      "execution_count": null
    },
    {
      "id": "0a715c21-9513-4d1d-bb51-4d9b02082326",
      "cell_type": "code",
      "source": "# 예시: 푸리에 변환 후 특성 벡터를 모델에 학습용 데이터로 넣기\nX_train = []  # 학습 데이터\ny_train = []  # 레이블\n\n# 각 샘플에 대해 푸리에 변환을 수행한 후 특성 추출\nfor sample in raw_data:  # raw_data는 원본 가속도 데이터를 의미\n    x, y, z = sample  # x, y, z 값들\n    freq_x, fft_x = fourier_transform(x, sampling_rate)\n    freq_y, fft_y = fourier_transform(y, sampling_rate)\n    freq_z, fft_z = fourier_transform(z, sampling_rate)\n\n    # 필터링된 진폭 값 추출\n    magnitude_x_filtered = np.abs(fft_x)[(freq_x >= 0) & (freq_x <= low_freq_limit)]\n    magnitude_y_filtered = np.abs(fft_y)[(freq_y >= 0) & (freq_y <= low_freq_limit)]\n    magnitude_z_filtered = np.abs(fft_z)[(freq_z >= 0) & (freq_z <= low_freq_limit)]\n    \n    # 특성 벡터로 변환 (최댓값, 평균값 등 사용)\n    features = np.concatenate([np.max(magnitude_x_filtered), np.max(magnitude_y_filtered), np.max(magnitude_z_filtered)])\n    \n    X_train.append(features)\n    y_train.append(label)  # label은 각 샘플에 해당하는 레이블\n\n# X_train과 y_train을 모델에 학습시키기\n",
      "metadata": {
        "trusted": true
      },
      "outputs": [],
      "execution_count": null
    },
    {
      "id": "cb91af1f-905c-410f-9f52-b42fc4fe5bb1",
      "cell_type": "code",
      "source": "# 예시: 진폭과 주파수를 모두 사용하는 경우\nfeatures = []\nfor f, m in zip(freq_x, magnitude_x):\n    features.append((f, m))  # 주파수와 진폭을 결합하여 특성으로 사용\n\n# 이 방식은 더 복잡한 모델에 사용될 수 있습니다.\n",
      "metadata": {
        "trusted": true
      },
      "outputs": [],
      "execution_count": null
    }
  ]
}
