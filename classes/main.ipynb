{
 "cells": [
  {
   "cell_type": "code",
   "execution_count": null,
   "metadata": {},
   "outputs": [],
   "source": [
    "from makenumpyfile import make_data_csv\n",
    "from SVM_model import *\n",
    "\n",
    "data_set, Y_label = make_data_csv(folder_path=\"C:/Users/user/OneDrive/바탕 화면/test/rawdataset\", file_name=\"RawData\", data_set_per_label=10, time_window=3)\n",
    "test, _=make_data_csv(folder_path=\"C:/Users/user/OneDrive/바탕 화면/test/testdataset\", file_name=\"TestData\", data_set_per_label=5, time_window=3)"
   ]
  },
  {
   "cell_type": "code",
   "execution_count": null,
   "metadata": {},
   "outputs": [],
   "source": [
    "#슬라이딩 윈도우와 dataExtraction의 합작으로 데이터 추출 후 scale까지\n",
    "X, y=train_feature_extract(data_set, Y_label)\n",
    "label_encoder = LabelEncoder()\n",
    "scaler = StandardScaler()\n",
    "X_train, y_encoded=svm_train_scale(X, y, label_encoder, scaler)\n",
    "\n",
    "#svm모델에 학습\n",
    "svm_model = SVC(kernel='rbf', C=1.0, gamma='scale')\n",
    "svm_model.fit(X_train, y_encoded)\n",
    "\n",
    "#test 데이터 받아오기\n",
    "tests=test_feature_extract(test)\n",
    "test_sample=svm_test_scale(tests, scaler)\n",
    "\n",
    "#예측\n",
    "y_pred = svm_model.predict(test_sample)\n",
    "print(label_encoder.inverse_transform(y_pred))"
   ]
  }
 ],
 "metadata": {
  "language_info": {
   "name": "python"
  }
 },
 "nbformat": 4,
 "nbformat_minor": 2
}
