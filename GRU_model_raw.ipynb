{
 "cells": [
  {
   "cell_type": "code",
   "execution_count": 1,
   "metadata": {},
   "outputs": [],
   "source": [
    "import torch\n",
    "import torch.nn as nn\n",
    "import torch.optim as optim\n",
    "import numpy as np\n",
    "from sklearn.preprocessing import LabelEncoder\n",
    "from torch.utils.data import DataLoader, TensorDataset"
   ]
  },
  {
   "cell_type": "code",
   "execution_count": 23,
   "metadata": {},
   "outputs": [],
   "source": [
    "#앞의 10번 연타하는거는 알아서 하시고~우\n",
    "#input으로 label받는 것도 구현하고고\n",
    "data_set=np.load('full_data.npy')\n",
    "Y_label=[\"Waving\", \"Waving\", \"Waving\", \"Waving\", \"Waving\", \"Waving\", \"Waving\", \"Waving\", \"Waving\", \"Waving\"]\n",
    "\n",
    "#레이블이 str이니깐 encoder 실행\n",
    "label_encoder = LabelEncoder()\n",
    "y_encoded = label_encoder.fit_transform(Y_label)\n",
    "\n",
    "\n",
    "X_tensor = torch.tensor(data_set, dtype=torch.float32)   # (batch_size, seq_length, input_dim)\n",
    "y_tensor = torch.tensor(y_encoded, dtype=torch.long)\n",
    "\n",
    "\n",
    "# Dataset & DataLoader 설정\n",
    "# dateset을 32개로 나눠서 최적화 진행\n",
    "batch_size = 32\n",
    "dataset = TensorDataset(X_tensor, y_tensor)\n",
    "data_loader = DataLoader(dataset, batch_size=batch_size, shuffle=False) # 시계열 데이터니깐 shuffle을 하면 안되지."
   ]
  },
  {
   "cell_type": "code",
   "execution_count": 27,
   "metadata": {},
   "outputs": [],
   "source": [
    "class GRUMotionClassifier(nn.Module):\n",
    "    def __init__(self, input_size, hidden_size, num_layers, output_size):\n",
    "        super(GRUMotionClassifier, self).__init__()\n",
    "        self.gru = nn.GRU(input_size, hidden_size, num_layers, batch_first=True)\n",
    "        self.fc = nn.Linear(hidden_size, output_size) # 분류 문제이기 때문에 outputsize를 받음. 만약 regression문제라면 1로 고정정\n",
    "\n",
    "    def forward(self, x):\n",
    "        _, hidden = self.gru(x)  # hidden: (num_layers, batch_size, hidden_size)\n",
    "        out = self.fc(hidden[-1])  # 마지막 레이어의 hidden state 사용\n",
    "        return out\n",
    "    \n",
    "model = GRUMotionClassifier(input_size=4, hidden_size=64, num_layers=2, output_size=1)\n",
    "# input_size는 현재 x, y, z, a 4개 \n",
    "# hidden_size는 이전 데이터를 얼마나 기억할 것인지, 높으면 정확성이 올라가지만 너무 올라가면 과적합\n",
    "# num_layers는 GRU 층\n",
    "# output_size는 y_label의 개수(현재는 waving 밖에 없어서 1로함.)"
   ]
  },
  {
   "cell_type": "code",
   "execution_count": 25,
   "metadata": {},
   "outputs": [],
   "source": [
    "# ========== 3. 학습 설정 ==========\n",
    "learning_rate=0.001 # 학습률, weight를 update할때 얼만큼 weight를 조정할건지, 너무 크면 확확 바뀌고, 너무 작으면 찔끔찔끔 변화함. 적당한 것이 0.001\n",
    "criterion = nn.CrossEntropyLoss()  # 분류 문제 -> CrossEntropyLoss\n",
    "optimizer = optim.Adam(model.parameters(), lr=learning_rate) # 처음에는 큰 lr을 사용하다가 점차 작은 lr을 사용하는 최적화 알고리즘"
   ]
  },
  {
   "cell_type": "code",
   "execution_count": 26,
   "metadata": {},
   "outputs": [
    {
     "name": "stdout",
     "output_type": "stream",
     "text": [
      "Epoch [10/20], Loss: 0.0000\n",
      "Epoch [20/20], Loss: 0.0000\n"
     ]
    }
   ],
   "source": [
    "# ========== 4. 학습 실행 ==========\n",
    "num_epochs = 20\n",
    "\n",
    "for epoch in range(num_epochs):\n",
    "    for batch_X, batch_y in data_loader:\n",
    "        optimizer.zero_grad() # 이전 Epoch에서 계산된 기울기(Gradient) 초기화\n",
    "    \n",
    "        # Forward\n",
    "        outputs = model(batch_X) # 모델에 입력 데이터를 넣어 예측값 계산\n",
    "        loss = criterion(outputs, batch_y)  # 손실(loss) 계산\n",
    "\n",
    "        # Backward & Optimize\n",
    "        loss.backward() # 역전파(Backpropagation) 수행하여 기울기 계산\n",
    "        optimizer.step() # 가중치 업데이트\n",
    "\n",
    "    if (epoch + 1) % 10 == 0: # 10번 주기로 학습이 잘되고 있는지 확인\n",
    "        print(f\"Epoch [{epoch+1}/{num_epochs}], Loss: {loss.item():.4f}\")"
   ]
  },
  {
   "cell_type": "code",
   "execution_count": null,
   "metadata": {},
   "outputs": [],
   "source": [
    "# ========== 5. 테스트 ==========\n",
    "# test_sample = torch.randn(1, seq_length, input_dim)  # 임의의 테스트 데이터\n",
    "model.eval()\n",
    "with torch.no_grad():\n",
    "    prediction = model(test_sample)\n",
    "    predicted_class = torch.argmax(prediction, dim=1).item()\n",
    "    print(f\"Predicted Motion: {predicted_class}\") # predicted 출력"
   ]
  }
 ],
 "metadata": {
  "kernelspec": {
   "display_name": "Python 3",
   "language": "python",
   "name": "python3"
  },
  "language_info": {
   "codemirror_mode": {
    "name": "ipython",
    "version": 3
   },
   "file_extension": ".py",
   "mimetype": "text/x-python",
   "name": "python",
   "nbconvert_exporter": "python",
   "pygments_lexer": "ipython3",
   "version": "3.13.2"
  }
 },
 "nbformat": 4,
 "nbformat_minor": 2
}
